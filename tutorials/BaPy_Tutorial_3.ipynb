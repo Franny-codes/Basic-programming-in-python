{
  "cells": [
    {
      "cell_type": "markdown",
      "metadata": {
        "id": "tv8lx8cW3ID-"
      },
      "source": [
        "# **Basic Programming in Python**\n",
        "\n",
        "## Summer Term 2025\n",
        "\n",
        "### Tutorial on Lists and Loops"
      ]
    },
    {
      "cell_type": "markdown",
      "metadata": {
        "id": "pdNQ0xT945L6"
      },
      "source": [
        "#### **Lists**"
      ]
    },
    {
      "cell_type": "markdown",
      "metadata": {
        "id": "MblYKS0aUYoy"
      },
      "source": [
        "**Creating a list**\n",
        "\n",
        "In Python, you can store a collection of items in a list, such as integers and strings.\n",
        "\n",
        "Lists are created using square brackets `[ ]` and items stored in a list are separated by commas."
      ]
    },
    {
      "cell_type": "code",
      "execution_count": 60,
      "metadata": {
        "id": "eTukJNxN6GS4",
        "colab": {
          "base_uri": "https://localhost:8080/"
        },
        "outputId": "be4e9c47-8bcb-4c47-8a0a-ae54e28cba99"
      },
      "outputs": [
        {
          "output_type": "stream",
          "name": "stdout",
          "text": [
            "[1, 2, 'cool', 2.5, -2, ['Apple', 'Banana', 'Orange', 'Watermelon']] works!\n"
          ]
        }
      ],
      "source": [
        "my_numbers = [1, 2, 3, 4, 5, 6, 7, 8, 9, 10]\n",
        "\n",
        "fruits = [\"Apple\", \"Banana\", \"Orange\", \"Watermelon\"]\n",
        "\n",
        "# Can a list contain a mix of different data types? Try it out by yourself!\n",
        "\n",
        "mixed = [1, 2, \"cool\", 2.5, -2, fruits]\n",
        "print(mixed, \"works!\")"
      ]
    },
    {
      "cell_type": "markdown",
      "metadata": {
        "id": "SJYAjYqL1AD4"
      },
      "source": [
        "**Accessing elements in a list**\n",
        "\n",
        "It is possible to access elements in a list by using their index.\n",
        "\n",
        "Given the **fruits** list above, print the first and the last elements of the list - without knowing the lenght of the list ;)\n"
      ]
    },
    {
      "cell_type": "code",
      "execution_count": 6,
      "metadata": {
        "id": "7ebaUv_510KR",
        "colab": {
          "base_uri": "https://localhost:8080/"
        },
        "outputId": "461a9df4-59e4-4bfe-a6b8-e04c4c25f924"
      },
      "outputs": [
        {
          "output_type": "stream",
          "name": "stdout",
          "text": [
            "Apple Watermelon\n"
          ]
        }
      ],
      "source": [
        "# add your code here\n",
        "\n",
        "print(fruits[0], fruits[-1])"
      ]
    },
    {
      "cell_type": "markdown",
      "metadata": {
        "id": "bWFF77wT2J_7"
      },
      "source": [
        "**Changing elements in a list**\n",
        "\n",
        "We can change a certain element in a list by assigning a new value to an index of that item we want to change.\n",
        "\n",
        "Try to change `\"Watermelon\"` into `\"Strawberry\"`."
      ]
    },
    {
      "cell_type": "code",
      "execution_count": 9,
      "metadata": {
        "id": "o3nXrpgx4fEJ",
        "colab": {
          "base_uri": "https://localhost:8080/"
        },
        "outputId": "66c8e70b-c98b-41fb-bdb9-dbca695ecbf6"
      },
      "outputs": [
        {
          "output_type": "stream",
          "name": "stdout",
          "text": [
            "['Apple', 'Banana', 'Orange', 'Strawberry']\n"
          ]
        }
      ],
      "source": [
        "# add your code here\n",
        "\n",
        "fruits[-1] = \"Strawberry\"\n",
        "\n",
        "print(fruits)"
      ]
    },
    {
      "cell_type": "markdown",
      "metadata": {
        "id": "jdr5uCO95Ajb"
      },
      "source": [
        "**Adding new elements to a list**\n",
        "\n",
        "We can also add a new item to a list by using `.append()` method.\n",
        "\n",
        "Add `\"Plum\"` to the end of the `fruits` list."
      ]
    },
    {
      "cell_type": "code",
      "execution_count": 11,
      "metadata": {
        "id": "YxJWy_hG6Xk0",
        "colab": {
          "base_uri": "https://localhost:8080/"
        },
        "outputId": "ec8bd689-7b77-4126-d03e-facd2a553f84"
      },
      "outputs": [
        {
          "output_type": "stream",
          "name": "stdout",
          "text": [
            "['Apple', 'Banana', 'Orange', 'Strawberry', 'Plum']\n"
          ]
        }
      ],
      "source": [
        "#.append adds new element to end of list\n",
        "\n",
        "fruits.append(\"Plum\")\n",
        "\n",
        "print(fruits)"
      ]
    },
    {
      "cell_type": "markdown",
      "metadata": {
        "id": "vtSOTDiFUYo9"
      },
      "source": [
        "Further you can also use mathematical operators with lists.\n",
        "\n",
        "Create another list (of a different length) and try the basic mathematical operators `+`, `-`, `*` and `/` for your custom list and the list `fruits`.   \n",
        "Now try to add the item `\"Grapes\"` to the list as you did before with `\"Plum\"` but this time with the `+` operator.\n",
        "\n",
        "What do you observe?"
      ]
    },
    {
      "cell_type": "code",
      "execution_count": 61,
      "metadata": {
        "colab": {
          "base_uri": "https://localhost:8080/"
        },
        "id": "lx8-lvUPUYo9",
        "outputId": "6017c5f0-de3b-4e44-9c9f-b9e4aca5f810"
      },
      "outputs": [
        {
          "output_type": "stream",
          "name": "stdout",
          "text": [
            "['Apple', 'Banana', 'Orange', 'Watermelon', 'Monday', 'Tuesday', 'Wednesday', 'Thursday', 'Friday', 'Saturday', 'Sunday']\n",
            "['Apple', 'Banana', 'Orange', 'Watermelon', 'Apple', 'Banana', 'Orange', 'Watermelon', 'Apple', 'Banana', 'Orange', 'Watermelon']\n"
          ]
        }
      ],
      "source": [
        "your_list = [\"Monday\", \"Tuesday\", \"Wednesday\", \"Thursday\", \"Friday\", \"Saturday\", \"Sunday\"]\n",
        "\n",
        "print(fruits+your_list)\n",
        "\n",
        "#only addition works for lists with strings, unless:\n",
        "\n",
        "other_list = fruits * 3\n",
        "print(other_list)\n",
        "\n",
        "#you cannot add a string to a list"
      ]
    },
    {
      "cell_type": "markdown",
      "metadata": {
        "id": "sT-imrF06_S9"
      },
      "source": [
        "**Removing elements from a list**\n",
        "\n",
        "`.remove()` method allows us to remove the first occurence of an element from a list.\n",
        "\n",
        "Try to remove `\"Banana\"` from the list."
      ]
    },
    {
      "cell_type": "code",
      "execution_count": 19,
      "metadata": {
        "id": "DFL4bdwX7nK2",
        "colab": {
          "base_uri": "https://localhost:8080/"
        },
        "outputId": "8a9d3824-96e9-4f70-a5b2-0a50831e91a5"
      },
      "outputs": [
        {
          "output_type": "stream",
          "name": "stdout",
          "text": [
            "['Apple', 'Orange', 'Strawberry', 'Plum']\n"
          ]
        }
      ],
      "source": [
        "fruits.remove(\"Banana\")\n",
        "\n",
        "print(fruits)"
      ]
    },
    {
      "cell_type": "markdown",
      "metadata": {
        "id": "H-ySbaMg7qPj"
      },
      "source": [
        "While `.remove()` method removes the first occurence of the given element, `.pop()` method removes an element at a specific index.\n",
        "\n",
        "What happens when you use `.pop()` method at the index `5` in `my_numbers` list?   \n",
        "You can also retrieve the removed element as the output of the `.pop()` method.\n",
        "\n",
        "Print the updated list as well as the removed value."
      ]
    },
    {
      "cell_type": "code",
      "execution_count": 63,
      "metadata": {
        "id": "nWah242w8VFs",
        "colab": {
          "base_uri": "https://localhost:8080/"
        },
        "outputId": "6d0817f7-ff15-4f1a-f26b-3073fade9769"
      },
      "outputs": [
        {
          "output_type": "stream",
          "name": "stdout",
          "text": [
            "[0, 1, 2, 3, 4, 6, 7, 8, 9, 10]\n",
            "6\n"
          ]
        }
      ],
      "source": [
        "my_numbers = [0, 1, 2, 3, 4, 5, 6, 7, 8, 9, 10]\n",
        "\n",
        "my_numbers.pop(5)\n",
        "#removes item at index 5\n",
        "\n",
        "print(my_numbers)\n",
        "\n",
        "#how do i print the removed value?\n",
        "\n",
        "removed_item = my_numbers.pop(5)\n",
        "print(removed_item)"
      ]
    },
    {
      "cell_type": "markdown",
      "metadata": {
        "id": "yvUWGk-p878v"
      },
      "source": [
        "**List evaluation methods**\n",
        "\n",
        "Python has built-in functions to retrieve certain characteristics of a list.\n",
        "\n",
        "Try them, modify the corresponding list and take a look at the results.   \n",
        "Try to combine different data types (e.g. Strings and Numbers, Integers and Floats etc.) to see which ones you can have combined in a list and which ones not. This might be an indicator to the usability in your future programs.   \n",
        "What's your guess on that?  "
      ]
    },
    {
      "cell_type": "code",
      "execution_count": 26,
      "metadata": {
        "id": "EIFhiRpC9ByV",
        "colab": {
          "base_uri": "https://localhost:8080/"
        },
        "outputId": "13dfeef3-7bc4-461e-82e7-762686715a1d"
      },
      "outputs": [
        {
          "output_type": "stream",
          "name": "stdout",
          "text": [
            "10\n"
          ]
        }
      ],
      "source": [
        "len(my_numbers) #Gives the length of the list\n",
        "print(len(my_numbers))"
      ]
    },
    {
      "cell_type": "code",
      "execution_count": 28,
      "metadata": {
        "colab": {
          "base_uri": "https://localhost:8080/"
        },
        "id": "ygdZJH5JUYo_",
        "outputId": "af051e6a-6d3f-4263-ee26-9e7f344596d3"
      },
      "outputs": [
        {
          "output_type": "stream",
          "name": "stdout",
          "text": [
            "10\n"
          ]
        }
      ],
      "source": [
        "max(my_numbers) #Gives the highest value\n",
        "print(max(my_numbers))"
      ]
    },
    {
      "cell_type": "code",
      "execution_count": 29,
      "metadata": {
        "colab": {
          "base_uri": "https://localhost:8080/"
        },
        "id": "cwxkQA03UYo_",
        "outputId": "14b24da8-7293-41ed-b30f-58939c9be59c"
      },
      "outputs": [
        {
          "output_type": "stream",
          "name": "stdout",
          "text": [
            "0\n"
          ]
        }
      ],
      "source": [
        "min(my_numbers) #Gives the smallest value\n",
        "print(min(my_numbers))"
      ]
    },
    {
      "cell_type": "code",
      "execution_count": 30,
      "metadata": {
        "colab": {
          "base_uri": "https://localhost:8080/"
        },
        "id": "EMyFj-IJUYo_",
        "outputId": "873af6ad-6332-4fe5-a6c9-4415db11ad57"
      },
      "outputs": [
        {
          "output_type": "stream",
          "name": "stdout",
          "text": [
            "50\n"
          ]
        }
      ],
      "source": [
        "sum(my_numbers) #Sums up all elements\n",
        "print(sum(my_numbers))"
      ]
    },
    {
      "cell_type": "code",
      "execution_count": 31,
      "metadata": {
        "colab": {
          "base_uri": "https://localhost:8080/"
        },
        "id": "mkvz8R-5UYo_",
        "outputId": "8a70200a-6641-4905-85ce-4590130b272b"
      },
      "outputs": [
        {
          "output_type": "stream",
          "name": "stdout",
          "text": [
            "[0, 1, 2, 3, 4, 6, 7, 8, 9, 10]\n"
          ]
        }
      ],
      "source": [
        "sorted(my_numbers) #Sorts the list from the smallest to the highest.\n",
        "print(sorted(my_numbers))"
      ]
    },
    {
      "cell_type": "markdown",
      "metadata": {
        "id": "OPJ8w5iEUYo_"
      },
      "source": [
        "**Slicing**\n",
        "\n",
        "Slicing is a way of selecting only a specified range of indexes within a list.   \n",
        "You can do so with the `[ ]` operator and specifying the indexes with `m:n`, `m:`, `:m`, `:`, where `m` and `n < len(list)`\n",
        "\n",
        "Retrieve a range of list items from the `fruits` list by applying slicing."
      ]
    },
    {
      "cell_type": "code",
      "execution_count": 41,
      "metadata": {
        "colab": {
          "base_uri": "https://localhost:8080/"
        },
        "id": "EQHe51jDUYo_",
        "outputId": "fdb4bd26-9715-429a-c7a5-09ac82cd3e86"
      },
      "outputs": [
        {
          "output_type": "stream",
          "name": "stdout",
          "text": [
            "['Apple', 'Orange', 'Strawberry', 'Plum']\n",
            "['Orange', 'Strawberry', 'Plum']\n"
          ]
        }
      ],
      "source": [
        "print(fruits)\n",
        "print(fruits[1:4])"
      ]
    },
    {
      "cell_type": "markdown",
      "metadata": {
        "id": "jnUa2AowKxY2"
      },
      "source": [
        "#### **Iteration and Looping**"
      ]
    },
    {
      "cell_type": "markdown",
      "metadata": {
        "id": "hHVubkS-UYo_"
      },
      "source": [
        "In programming a loop repeats code until a certain condition is met. Each time the computer runs through a loop, it's called an iteration. Iterative refers to a sequence of instructions or code being repeated until a specific end result is achieved."
      ]
    },
    {
      "cell_type": "markdown",
      "metadata": {
        "id": "_TuEocM2RoOP"
      },
      "source": [
        "**The *while* loop**\n",
        "\n",
        "More formally, here is the flow of execution for a while statement:\n",
        "1. Evaluate the condition, yielding True or False.\n",
        "2. If the condition is false, exit the while statement and continue execution at the next\n",
        "statement.\n",
        "3. If the condition is true, execute the body and then go back to step 1.\n",
        "\n",
        "This type of flow is called a loop because the third step loops back around to the top. The body of the loop should change the value of one or more variables so that eventually the condition becomes false and the loop terminates."
      ]
    },
    {
      "cell_type": "markdown",
      "metadata": {
        "id": "3uSJ5capZr3i"
      },
      "source": [
        "Task 1: Write a program that asks the user to enter a positive integer and computes the sum of all the integers from 1 to that number."
      ]
    },
    {
      "cell_type": "code",
      "execution_count": null,
      "metadata": {
        "id": "grhG4H1pQPIb"
      },
      "outputs": [],
      "source": [
        "num = int(input(\"Enter a positive integer: \"))\n",
        "\n",
        "#define a storage\n",
        "total = 0\n",
        "i = 1\n",
        "\n",
        "while i <= num:\n",
        "  total += i #add i to total\n",
        "  i += 1 #move to next number\n",
        "\n",
        "print(\"The sum is:\", total)\n",
        "\n"
      ]
    },
    {
      "cell_type": "markdown",
      "metadata": {
        "id": "Fs7BjLaYQHwb"
      },
      "source": [
        "\n",
        "**Traversal with a *for* loop**\n",
        "\n",
        "\n",
        "A for loop is used for iterating over a sequence (that is either a list, a tuple, a dictionary, a set, or a string). With the for loop we can execute a set of statements, once for each item in a list, tuple, set etc.\n",
        "\n",
        "Remember that you can iterate over such sequences in different ways e.g.:\n",
        "- Direct looping over the items with `for n in Sequence`\n",
        "- Looping over a range of integers e.g. resembling the indexes of a list with:\n",
        "    - `for i in range(Stop: Integer)`\n",
        "    - `for i in range(Start: Integer, Stop: Integer)`\n",
        "    - `for i in range(Start: Integer, Stop: Integer, StepSize: Integer)`\n",
        "- Looping over the item and index pair of a list with `for i, n in enumerate(Sequence)`\n",
        "\n",
        "Task 2: Write a program that calculates the average of a list of numbers. Try the different looping strategies mentioned above."
      ]
    },
    {
      "cell_type": "code",
      "execution_count": null,
      "metadata": {
        "id": "0-aVNQeBQKT7"
      },
      "outputs": [],
      "source": [
        "nums = [2, 11, 4, 6, 8, 17, 10, 3, 1]\n",
        "\n",
        "#direct looping over items:\n",
        "\n",
        "total = 0\n",
        "for i in nums:\n",
        "  total += i\n",
        "\n",
        "average = total / len(nums)\n",
        "print(\"Average (direct loop):\", average)\n",
        "\n",
        "#looping over range of indexes\n",
        "\n",
        "total = 0\n",
        "for i in range(len(nums)):\n",
        "  total += nums[i]\n",
        "\n",
        "average = total / len(nums)\n",
        "print(\"Average (range loop):\", average)\n",
        "\n",
        "#looping over item and index using enumerate()\n",
        "\n",
        "total = 0\n",
        "for i, n in enumerate(nums):\n",
        "  total += n\n",
        "\n",
        "average = total / len(nums)\n",
        "print(\"Average (enumerate loop):\", average)\n",
        "\n",
        "\n",
        "sum_nums = 0\n",
        "for i in nums:\n",
        "  sum_nums += i\n",
        "\n",
        "avg_nums = sum_nums /"
      ]
    },
    {
      "cell_type": "markdown",
      "metadata": {
        "id": "NGpDtxD6P6hs"
      },
      "source": [
        "**Break statement**\n",
        "\n",
        "With the break statement in \"while\" statement we can stop the loop even if the while condition is true. In \"for\" with the break statement we can stop the loop before it has looped through all the items.\n",
        "\n",
        "Task 3: Write a program that prompts the user to enter a word and prints the word in reverse order. The program should continue to ask the user for a word until the word \"stop\" is entered."
      ]
    },
    {
      "cell_type": "code",
      "execution_count": 55,
      "metadata": {
        "id": "WvJXZQNRQHMm",
        "colab": {
          "base_uri": "https://localhost:8080/"
        },
        "outputId": "eeebf628-6d0d-4f8d-895e-6653ced7d2ae"
      },
      "outputs": [
        {
          "output_type": "stream",
          "name": "stdout",
          "text": [
            "Enter a word: Arch\n",
            "Reversed word: hcrA\n",
            "Enter a word: Peace\n",
            "Reversed word: ecaeP\n",
            "Enter a word: stop\n",
            "Reversed word: pots\n",
            "program ended\n"
          ]
        }
      ],
      "source": [
        "while True:\n",
        "  word = input(\"Enter a word: \")\n",
        "  reversed_word = \"\"\n",
        "  for i in word:\n",
        "    reversed_word = i + reversed_word\n",
        "  print(\"Reversed word:\", reversed_word)\n",
        "\n",
        "  if word == \"stop\":\n",
        "    break\n",
        "print(\"program ended\")"
      ]
    },
    {
      "cell_type": "code",
      "source": [
        "while True:\n",
        "  word = input(\"Enter a word: \")\n",
        "  if word == \"stop\":\n",
        "    break\n",
        "  reversed_word = word[::-1]\n",
        "  print(\"reversed word:\", reversed_word)"
      ],
      "metadata": {
        "id": "LYCror0Av02m"
      },
      "execution_count": null,
      "outputs": []
    },
    {
      "cell_type": "markdown",
      "metadata": {
        "id": "t3qVMgoThXlk"
      },
      "source": [
        "Task 4: Write a program that uses a for loop to iterate over a list of integers and prints each number until it reaches a negative number. Then, break out of the loop."
      ]
    },
    {
      "cell_type": "code",
      "execution_count": 56,
      "metadata": {
        "id": "0Eo-2yf6husD",
        "colab": {
          "base_uri": "https://localhost:8080/"
        },
        "outputId": "95d31462-faca-461c-f5d1-5fe938b602f3"
      },
      "outputs": [
        {
          "output_type": "stream",
          "name": "stdout",
          "text": [
            "10 is positive\n",
            "20 is positive\n",
            "30 is positive\n",
            "40 is positive\n"
          ]
        }
      ],
      "source": [
        "numbers = [10, 20, 30, 40, -5, 50, 60]\n",
        "\n",
        "for i in numbers:\n",
        "  if i > 0:\n",
        "    print(i, \"is positive\")\n",
        "  else:\n",
        "    break\n"
      ]
    },
    {
      "cell_type": "markdown",
      "metadata": {
        "id": "WjUA8Ir2QNWW"
      },
      "source": [
        "**The *continue* statement**\n",
        "\n",
        "With the continue statement we can stop the current iteration of the loop, and continue with the next.\n",
        "\n",
        "Task 5: Skip Game! Write a program that prints all the even numbers from 1 to 50 using a **for** loop. However, for multiples of 3, print \"skip\" instead of the number."
      ]
    },
    {
      "cell_type": "code",
      "execution_count": 58,
      "metadata": {
        "id": "uciKSmvpiKR_",
        "colab": {
          "base_uri": "https://localhost:8080/"
        },
        "outputId": "eb01f7fc-a4e7-41f3-97bf-815e0cd24abc"
      },
      "outputs": [
        {
          "output_type": "stream",
          "name": "stdout",
          "text": [
            "1\n",
            "3\n",
            "5\n",
            "skip\n",
            "7\n",
            "9\n",
            "11\n",
            "skip\n",
            "13\n",
            "15\n",
            "17\n",
            "skip\n",
            "19\n",
            "21\n",
            "23\n",
            "skip\n",
            "25\n",
            "27\n",
            "29\n",
            "skip\n",
            "31\n",
            "33\n",
            "35\n",
            "skip\n",
            "37\n",
            "39\n",
            "41\n",
            "skip\n",
            "43\n",
            "45\n",
            "47\n",
            "skip\n",
            "49\n"
          ]
        }
      ],
      "source": [
        "list50 = [1, 2, 3, 4, 5, 6, 7, 8, 9, 10, 11, 12, 13, 14, 15, 16, 17, 18, 19, 20, 21, 22, 23, 24, 25, 26, 27, 28, 29, 30, 31, 32, 33, 34, 35, 36, 37, 38, 39, 40, 41, 42, 43, 44, 45, 46, 47, 48, 49, 50]\n",
        "\n",
        "#Python includes first and excludes last index\n",
        "for i in range(1, 51):\n",
        "  if i % 2 == 0 and if i % 3 == 0:\n",
        "      print(\"skip\")\n",
        "      continue\n",
        "  if i % 2 == 0:\n",
        "    print(i)"
      ]
    }
  ],
  "metadata": {
    "colab": {
      "provenance": []
    },
    "kernelspec": {
      "display_name": "Python 3",
      "name": "python3"
    },
    "language_info": {
      "codemirror_mode": {
        "name": "ipython",
        "version": 3
      },
      "file_extension": ".py",
      "mimetype": "text/x-python",
      "name": "python",
      "nbconvert_exporter": "python",
      "pygments_lexer": "ipython3",
      "version": "3.11.8"
    }
  },
  "nbformat": 4,
  "nbformat_minor": 0
}