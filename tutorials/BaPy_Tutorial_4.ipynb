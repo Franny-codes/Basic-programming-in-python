{
  "cells": [
    {
      "cell_type": "markdown",
      "metadata": {
        "id": "ty5oWp949sY8"
      },
      "source": [
        "# **Basic Programming in Python**\n",
        "\n",
        "## Summer Term 2025\n",
        "\n",
        "### Tutorial on Functions and Methods"
      ]
    },
    {
      "cell_type": "markdown",
      "metadata": {
        "id": "56h7oFh7-fGS"
      },
      "source": [
        "#### **Functions**"
      ]
    },
    {
      "cell_type": "markdown",
      "metadata": {
        "id": "0Wj0uW0iJSQ9"
      },
      "source": [
        "We have been using Python's built-in functions, such as type conversion functions and math functions. However, we can also define our own functions. To implement a function we use the keyword `def` followed by a function name, brackets and the input arguments and a colon e.g. ` def func(arg1):`. This would create a function with the name `func` which takes one input argument `arg1`. Functions do not necessarily need input arguments if they are supposed to perform only hard-coded procedures. In the next lines we can define what that function should do. This function definition is all written with one indentation block.\n",
        "\n",
        "Example:\n",
        "```\n",
        "def func(arg1):\n",
        "    # do something\n",
        "    # add return statement if function returns one or multiple values\n",
        "    return output\n",
        "```\n",
        "\n",
        "Implement the function `greet` that takes in the argument `name` and prints out the String `\"Hello \" + name` and call this function."
      ]
    },
    {
      "cell_type": "code",
      "execution_count": 1,
      "metadata": {
        "id": "nxoPpwzJCTnl",
        "outputId": "6d1ff9e4-400b-4574-cbc4-b8b021e4a23b",
        "colab": {
          "base_uri": "https://localhost:8080/"
        }
      },
      "outputs": [
        {
          "output_type": "stream",
          "name": "stdout",
          "text": [
            "Hello Franny\n"
          ]
        }
      ],
      "source": [
        "def greet(name):\n",
        "  print(\"Hello\", name)\n",
        "\n",
        "greet(\"Franny\")"
      ]
    },
    {
      "cell_type": "markdown",
      "metadata": {
        "id": "Kh7dDMP5x3em"
      },
      "source": [
        "**Function arguments**\n",
        "\n",
        "Function arguments are values that are passed into a function when it is called. These values are used by the function to perform its task. For example, if you wanted to write a function that adds two numbers together, you would need to pass in two numbers as arguments.\n",
        "To pass arguments to a function, you need to define the function with parameters that correspond to the arguments you want to pass in.\n",
        "\n",
        "**Return values**\n",
        "\n",
        "Return values are the values that a function returns after it has completed its task. To return a value from a function, you use the ***return*** statement.\n"
      ]
    },
    {
      "cell_type": "markdown",
      "metadata": {
        "id": "5j4asMuNETun"
      },
      "source": [
        "Let's define a function that takes two numbers as parameters and returns their sum. Replace the `pass` statement with your function definition. The `pass` statement can be seen as a placeholder, since python functions need some sort of function definition."
      ]
    },
    {
      "cell_type": "code",
      "execution_count": 2,
      "metadata": {
        "id": "pi7l9CJoECSe",
        "outputId": "e3355f14-32b9-4cb0-d4e6-40d583c7b708",
        "colab": {
          "base_uri": "https://localhost:8080/"
        }
      },
      "outputs": [
        {
          "output_type": "stream",
          "name": "stdout",
          "text": [
            "10\n"
          ]
        }
      ],
      "source": [
        "def sum_numbers(x, y):\n",
        "  return(x+y)\n",
        "\n",
        "print(sum_numbers(4, 6))\n",
        "\n",
        ""
      ]
    },
    {
      "cell_type": "markdown",
      "metadata": {
        "id": "8660VtyTEyM7"
      },
      "source": [
        "Write a function called `is_even` which takes a number and returns `True` if the number is **even**, and **False** otherwise."
      ]
    },
    {
      "cell_type": "code",
      "execution_count": 5,
      "metadata": {
        "id": "X4PBw4vMFQ_h",
        "outputId": "3ae78a80-f1e8-431e-9b6f-00ad9302968e",
        "colab": {
          "base_uri": "https://localhost:8080/"
        }
      },
      "outputs": [
        {
          "output_type": "stream",
          "name": "stdout",
          "text": [
            "false\n"
          ]
        }
      ],
      "source": [
        "def is_even(x):\n",
        "    if x % 2 == 0:\n",
        "      return(\"true\")\n",
        "    else:\n",
        "      return(\"false\")\n",
        "\n",
        "print(is_even(5))"
      ]
    },
    {
      "cell_type": "markdown",
      "metadata": {
        "id": "V1X8PODLIVmU"
      },
      "source": [
        "Define a function that takes a list of numbers as input and returns the average of those numbers."
      ]
    },
    {
      "cell_type": "code",
      "execution_count": 8,
      "metadata": {
        "id": "xmh5ZGGPIi56",
        "outputId": "658bbec9-236e-4f3e-b70b-59c950eaaf34",
        "colab": {
          "base_uri": "https://localhost:8080/"
        }
      },
      "outputs": [
        {
          "output_type": "stream",
          "name": "stdout",
          "text": [
            "5.36609090909091\n"
          ]
        }
      ],
      "source": [
        "def calculate_average(numbers):\n",
        "  total = sum(numbers)\n",
        "  return(total/len(numbers))\n",
        "\n",
        "numbers = [5.25, 1, 2.123, 7.2, 6, 5.92, 6.234, 3.2, 3, 9.1, 10]\n",
        "average = calculate_average(numbers)\n",
        "print(average)"
      ]
    },
    {
      "cell_type": "markdown",
      "metadata": {
        "id": "DDGtWCNIKtCC"
      },
      "source": [
        "**What is the difference between calling a function directly and assigning the function into a variable first, and then printing the variable itself?**\n",
        "\n",
        "When a function is called directly, it is executed immediately and the values are not stored for future use. This is useful when memory is a critical factor because memory won't be filled up with variables which won't be used later. On the other hand, assigning a function to a variable can be beneficial in terms of time, allowing the function's output to be re-called in later parts of the code again.\n",
        "\n",
        "Let's try that with the really long string you know from a few tutorials before."
      ]
    },
    {
      "cell_type": "code",
      "execution_count": null,
      "metadata": {
        "id": "5woFEI9IJSRA"
      },
      "outputs": [],
      "source": [
        "really_long_string = \"\"\"GALAHAD: There it is!\n",
        "ARTHUR: The Bridge of Death!\n",
        "ROBIN: Oh, great.\n",
        "ARTHUR: Look! There's the old man from scene twenty-four!\n",
        "BEDEVERE: What is he doing here?\n",
        "ARTHUR: He is the keeper of the Bridge of Death. He asks each traveller five questions--\n",
        "GALAHAD: Three questions.\n",
        "ARTHUR: Three questions. He who answers the five questions--\n",
        "GALAHAD: Three questions.\n",
        "ARTHUR: Three questions may cross in safety.\n",
        "ROBIN: What if you get a question wrong?\n",
        "ARTHUR: Then you are cast into the Gorge of Eternal Peril.\n",
        "ROBIN: Oh, I won't go.\n",
        "GALAHAD: Who's going to answer the questions?\n",
        "ARTHUR: Sir Robin!\n",
        "ROBIN: Yes?\n",
        "ARTHUR: Brave Sir Robin, you go.\n",
        "ROBIN: Hey! I've got a great idea. Why doesn't Lancelot go?\n",
        "LANCELOT: Yes. Let me go, my liege. I will take him single-handed. I shall make a feint to the north-east that s--\n",
        "ARTHUR: No, no. No. Hang on! Hang on! Hang on! Just answer the five questions--\n",
        "GALAHAD: Three questions.\n",
        "ARTHUR: Three questions as best you can, and we shall watch... and pray.\n",
        "LANCELOT: I understand, my liege.\n",
        "ARTHUR: Good luck, brave Sir Lancelot. God be with you.\n",
        "BRIDGEKEEPER: Stop! Who would cross the Bridge of Death must answer me these questions three, ere the other side he see.\n",
        "LANCELOT: Ask me the questions, bridgekeeper. I am not afraid.\n",
        "BRIDGEKEEPER: What... is your name?\n",
        "LANCELOT: My name is 'Sir Lancelot of Camelot'.\n",
        "BRIDGEKEEPER: What... is your quest?\n",
        "LANCELOT: To seek the Holy Grail.\n",
        "BRIDGEKEEPER: What... is your favorite color?\n",
        "LANCELOT: Blue.\n",
        "BRIDGEKEEPER: Right. Off you go.\n",
        "LANCELOT: Oh, thank you. Thank you very much.\n",
        "ROBIN: That's easy!\n",
        "BRIDGEKEEPER: Stop! Who approacheth the Bridge of Death must answer me these questions three, ere the other side he see.\n",
        "ROBIN: Ask me the questions, bridgekeeper. I'm not afraid.\n",
        "BRIDGEKEEPER: What... is your name?\n",
        "ROBIN: 'Sir Robin of Camelot'.\n",
        "BRIDGEKEEPER: What... is your quest?\n",
        "ROBIN: To seek the Holy Grail.\n",
        "BRIDGEKEEPER: What... is the capital of Assyria?\n",
        "ROBIN: I don't know that! Auuuuuuuugh!\n",
        "BRIDGEKEEPER: Stop! What... is your name?\n",
        "GALAHAD: 'Sir Galahad of Camelot'.\n",
        "BRIDGEKEEPER: What... is your quest?\n",
        "GALAHAD: I seek the Grail.\n",
        "BRIDGEKEEPER: What... is your favorite color?\n",
        "GALAHAD: Blue. No, yel-- auuuuuuuugh!\n",
        "BRIDGEKEEPER: Hee hee heh. Stop! What... is your name?\n",
        "ARTHUR: It is 'Arthur', King of the Britons.\n",
        "BRIDGEKEEPER: What... is your quest?\n",
        "ARTHUR: To seek the Holy Grail.\n",
        "BRIDGEKEEPER: What... is the air-speed velocity of an unladen swallow?\n",
        "ARTHUR: What do you mean? An African or European swallow?\n",
        "BRIDGEKEEPER: Huh? I-- I don't know that. Auuuuuuuugh!\n",
        "BEDEVERE: How do know so much about swallows?\n",
        "ARTHUR: Well, you have to know these things when you're a king, you know.\"\"\""
      ]
    },
    {
      "cell_type": "markdown",
      "metadata": {
        "id": "qs-Z3HBqJSRA"
      },
      "source": [
        "We are going now to replace the sub-string `\"is\"` with `\"BANANA BREAD\"` and calculate the time it took our computer to do so."
      ]
    },
    {
      "cell_type": "code",
      "execution_count": 10,
      "metadata": {
        "collapsed": true,
        "id": "6VWJdwdkJSRA",
        "outputId": "bb2c45c5-fb91-45c9-869b-8dd8fe85aa67",
        "colab": {
          "base_uri": "https://localhost:8080/"
        }
      },
      "outputs": [
        {
          "output_type": "stream",
          "name": "stdout",
          "text": [
            "GALAHAD: There it BANANA BREAD!\n",
            "ARTHUR: The Bridge of Death!\n",
            "ROBIN: Oh, great.\n",
            "ARTHUR: Look! There's the old man from scene twenty-four!\n",
            "BEDEVERE: What BANANA BREAD he doing here?\n",
            "ARTHUR: He BANANA BREAD the keeper of the Bridge of Death. He asks each traveller five questions--\n",
            "GALAHAD: Three questions.\n",
            "ARTHUR: Three questions. He who answers the five questions--\n",
            "GALAHAD: Three questions.\n",
            "ARTHUR: Three questions may cross in safety.\n",
            "ROBIN: What if you get a question wrong?\n",
            "ARTHUR: Then you are cast into the Gorge of Eternal Peril.\n",
            "ROBIN: Oh, I won't go.\n",
            "GALAHAD: Who's going to answer the questions?\n",
            "ARTHUR: Sir Robin!\n",
            "ROBIN: Yes?\n",
            "ARTHUR: Brave Sir Robin, you go.\n",
            "ROBIN: Hey! I've got a great idea. Why doesn't Lancelot go?\n",
            "LANCELOT: Yes. Let me go, my liege. I will take him single-handed. I shall make a feint to the north-east that s--\n",
            "ARTHUR: No, no. No. Hang on! Hang on! Hang on! Just answer the five questions--\n",
            "GALAHAD: Three questions.\n",
            "ARTHUR: Three questions as best you can, and we shall watch... and pray.\n",
            "LANCELOT: I understand, my liege.\n",
            "ARTHUR: Good luck, brave Sir Lancelot. God be with you.\n",
            "BRIDGEKEEPER: Stop! Who would cross the Bridge of Death must answer me these questions three, ere the other side he see.\n",
            "LANCELOT: Ask me the questions, bridgekeeper. I am not afraid.\n",
            "BRIDGEKEEPER: What... BANANA BREAD your name?\n",
            "LANCELOT: My name BANANA BREAD 'Sir Lancelot of Camelot'.\n",
            "BRIDGEKEEPER: What... BANANA BREAD your quest?\n",
            "LANCELOT: To seek the Holy Grail.\n",
            "BRIDGEKEEPER: What... BANANA BREAD your favorite color?\n",
            "LANCELOT: Blue.\n",
            "BRIDGEKEEPER: Right. Off you go.\n",
            "LANCELOT: Oh, thank you. Thank you very much.\n",
            "ROBIN: That's easy!\n",
            "BRIDGEKEEPER: Stop! Who approacheth the Bridge of Death must answer me these questions three, ere the other side he see.\n",
            "ROBIN: Ask me the questions, bridgekeeper. I'm not afraid.\n",
            "BRIDGEKEEPER: What... BANANA BREAD your name?\n",
            "ROBIN: 'Sir Robin of Camelot'.\n",
            "BRIDGEKEEPER: What... BANANA BREAD your quest?\n",
            "ROBIN: To seek the Holy Grail.\n",
            "BRIDGEKEEPER: What... BANANA BREAD the capital of Assyria?\n",
            "ROBIN: I don't know that! Auuuuuuuugh!\n",
            "BRIDGEKEEPER: Stop! What... BANANA BREAD your name?\n",
            "GALAHAD: 'Sir Galahad of Camelot'.\n",
            "BRIDGEKEEPER: What... BANANA BREAD your quest?\n",
            "GALAHAD: I seek the Grail.\n",
            "BRIDGEKEEPER: What... BANANA BREAD your favorite color?\n",
            "GALAHAD: Blue. No, yel-- auuuuuuuugh!\n",
            "BRIDGEKEEPER: Hee hee heh. Stop! What... BANANA BREAD your name?\n",
            "ARTHUR: It BANANA BREAD 'Arthur', King of the Britons.\n",
            "BRIDGEKEEPER: What... BANANA BREAD your quest?\n",
            "ARTHUR: To seek the Holy Grail.\n",
            "BRIDGEKEEPER: What... BANANA BREAD the air-speed velocity of an unladen swallow?\n",
            "ARTHUR: What do you mean? An African or European swallow?\n",
            "BRIDGEKEEPER: Huh? I-- I don't know that. Auuuuuuuugh!\n",
            "BEDEVERE: How do know so much about swallows?\n",
            "ARTHUR: Well, you have to know these things when you're a king, you know.\n",
            "GALAHAD: There it BANANA BREAD!\n",
            "ARTHUR: The Bridge of Death!\n",
            "ROBIN: Oh, great.\n",
            "ARTHUR: Look! There's the old man from scene twenty-four!\n",
            "BEDEVERE: What BANANA BREAD he doing here?\n",
            "ARTHUR: He BANANA BREAD the keeper of the Bridge of Death. He asks each traveller five questions--\n",
            "GALAHAD: Three questions.\n",
            "ARTHUR: Three questions. He who answers the five questions--\n",
            "GALAHAD: Three questions.\n",
            "ARTHUR: Three questions may cross in safety.\n",
            "ROBIN: What if you get a question wrong?\n",
            "ARTHUR: Then you are cast into the Gorge of Eternal Peril.\n",
            "ROBIN: Oh, I won't go.\n",
            "GALAHAD: Who's going to answer the questions?\n",
            "ARTHUR: Sir Robin!\n",
            "ROBIN: Yes?\n",
            "ARTHUR: Brave Sir Robin, you go.\n",
            "ROBIN: Hey! I've got a great idea. Why doesn't Lancelot go?\n",
            "LANCELOT: Yes. Let me go, my liege. I will take him single-handed. I shall make a feint to the north-east that s--\n",
            "ARTHUR: No, no. No. Hang on! Hang on! Hang on! Just answer the five questions--\n",
            "GALAHAD: Three questions.\n",
            "ARTHUR: Three questions as best you can, and we shall watch... and pray.\n",
            "LANCELOT: I understand, my liege.\n",
            "ARTHUR: Good luck, brave Sir Lancelot. God be with you.\n",
            "BRIDGEKEEPER: Stop! Who would cross the Bridge of Death must answer me these questions three, ere the other side he see.\n",
            "LANCELOT: Ask me the questions, bridgekeeper. I am not afraid.\n",
            "BRIDGEKEEPER: What... BANANA BREAD your name?\n",
            "LANCELOT: My name BANANA BREAD 'Sir Lancelot of Camelot'.\n",
            "BRIDGEKEEPER: What... BANANA BREAD your quest?\n",
            "LANCELOT: To seek the Holy Grail.\n",
            "BRIDGEKEEPER: What... BANANA BREAD your favorite color?\n",
            "LANCELOT: Blue.\n",
            "BRIDGEKEEPER: Right. Off you go.\n",
            "LANCELOT: Oh, thank you. Thank you very much.\n",
            "ROBIN: That's easy!\n",
            "BRIDGEKEEPER: Stop! Who approacheth the Bridge of Death must answer me these questions three, ere the other side he see.\n",
            "ROBIN: Ask me the questions, bridgekeeper. I'm not afraid.\n",
            "BRIDGEKEEPER: What... BANANA BREAD your name?\n",
            "ROBIN: 'Sir Robin of Camelot'.\n",
            "BRIDGEKEEPER: What... BANANA BREAD your quest?\n",
            "ROBIN: To seek the Holy Grail.\n",
            "BRIDGEKEEPER: What... BANANA BREAD the capital of Assyria?\n",
            "ROBIN: I don't know that! Auuuuuuuugh!\n",
            "BRIDGEKEEPER: Stop! What... BANANA BREAD your name?\n",
            "GALAHAD: 'Sir Galahad of Camelot'.\n",
            "BRIDGEKEEPER: What... BANANA BREAD your quest?\n",
            "GALAHAD: I seek the Grail.\n",
            "BRIDGEKEEPER: What... BANANA BREAD your favorite color?\n",
            "GALAHAD: Blue. No, yel-- auuuuuuuugh!\n",
            "BRIDGEKEEPER: Hee hee heh. Stop! What... BANANA BREAD your name?\n",
            "ARTHUR: It BANANA BREAD 'Arthur', King of the Britons.\n",
            "BRIDGEKEEPER: What... BANANA BREAD your quest?\n",
            "ARTHUR: To seek the Holy Grail.\n",
            "BRIDGEKEEPER: What... BANANA BREAD the air-speed velocity of an unladen swallow?\n",
            "ARTHUR: What do you mean? An African or European swallow?\n",
            "BRIDGEKEEPER: Huh? I-- I don't know that. Auuuuuuuugh!\n",
            "BEDEVERE: How do know so much about swallows?\n",
            "ARTHUR: Well, you have to know these things when you're a king, you know.\n",
            "GALAHAD: There it BANANA BREAD!\n",
            "ARTHUR: The Bridge of Death!\n",
            "ROBIN: Oh, great.\n",
            "ARTHUR: Look! There's the old man from scene twenty-four!\n",
            "BEDEVERE: What BANANA BREAD he doing here?\n",
            "ARTHUR: He BANANA BREAD the keeper of the Bridge of Death. He asks each traveller five questions--\n",
            "GALAHAD: Three questions.\n",
            "ARTHUR: Three questions. He who answers the five questions--\n",
            "GALAHAD: Three questions.\n",
            "ARTHUR: Three questions may cross in safety.\n",
            "ROBIN: What if you get a question wrong?\n",
            "ARTHUR: Then you are cast into the Gorge of Eternal Peril.\n",
            "ROBIN: Oh, I won't go.\n",
            "GALAHAD: Who's going to answer the questions?\n",
            "ARTHUR: Sir Robin!\n",
            "ROBIN: Yes?\n",
            "ARTHUR: Brave Sir Robin, you go.\n",
            "ROBIN: Hey! I've got a great idea. Why doesn't Lancelot go?\n",
            "LANCELOT: Yes. Let me go, my liege. I will take him single-handed. I shall make a feint to the north-east that s--\n",
            "ARTHUR: No, no. No. Hang on! Hang on! Hang on! Just answer the five questions--\n",
            "GALAHAD: Three questions.\n",
            "ARTHUR: Three questions as best you can, and we shall watch... and pray.\n",
            "LANCELOT: I understand, my liege.\n",
            "ARTHUR: Good luck, brave Sir Lancelot. God be with you.\n",
            "BRIDGEKEEPER: Stop! Who would cross the Bridge of Death must answer me these questions three, ere the other side he see.\n",
            "LANCELOT: Ask me the questions, bridgekeeper. I am not afraid.\n",
            "BRIDGEKEEPER: What... BANANA BREAD your name?\n",
            "LANCELOT: My name BANANA BREAD 'Sir Lancelot of Camelot'.\n",
            "BRIDGEKEEPER: What... BANANA BREAD your quest?\n",
            "LANCELOT: To seek the Holy Grail.\n",
            "BRIDGEKEEPER: What... BANANA BREAD your favorite color?\n",
            "LANCELOT: Blue.\n",
            "BRIDGEKEEPER: Right. Off you go.\n",
            "LANCELOT: Oh, thank you. Thank you very much.\n",
            "ROBIN: That's easy!\n",
            "BRIDGEKEEPER: Stop! Who approacheth the Bridge of Death must answer me these questions three, ere the other side he see.\n",
            "ROBIN: Ask me the questions, bridgekeeper. I'm not afraid.\n",
            "BRIDGEKEEPER: What... BANANA BREAD your name?\n",
            "ROBIN: 'Sir Robin of Camelot'.\n",
            "BRIDGEKEEPER: What... BANANA BREAD your quest?\n",
            "ROBIN: To seek the Holy Grail.\n",
            "BRIDGEKEEPER: What... BANANA BREAD the capital of Assyria?\n",
            "ROBIN: I don't know that! Auuuuuuuugh!\n",
            "BRIDGEKEEPER: Stop! What... BANANA BREAD your name?\n",
            "GALAHAD: 'Sir Galahad of Camelot'.\n",
            "BRIDGEKEEPER: What... BANANA BREAD your quest?\n",
            "GALAHAD: I seek the Grail.\n",
            "BRIDGEKEEPER: What... BANANA BREAD your favorite color?\n",
            "GALAHAD: Blue. No, yel-- auuuuuuuugh!\n",
            "BRIDGEKEEPER: Hee hee heh. Stop! What... BANANA BREAD your name?\n",
            "ARTHUR: It BANANA BREAD 'Arthur', King of the Britons.\n",
            "BRIDGEKEEPER: What... BANANA BREAD your quest?\n",
            "ARTHUR: To seek the Holy Grail.\n",
            "BRIDGEKEEPER: What... BANANA BREAD the air-speed velocity of an unladen swallow?\n",
            "ARTHUR: What do you mean? An African or European swallow?\n",
            "BRIDGEKEEPER: Huh? I-- I don't know that. Auuuuuuuugh!\n",
            "BEDEVERE: How do know so much about swallows?\n",
            "ARTHUR: Well, you have to know these things when you're a king, you know.\n",
            "GALAHAD: There it BANANA BREAD!\n",
            "ARTHUR: The Bridge of Death!\n",
            "ROBIN: Oh, great.\n",
            "ARTHUR: Look! There's the old man from scene twenty-four!\n",
            "BEDEVERE: What BANANA BREAD he doing here?\n",
            "ARTHUR: He BANANA BREAD the keeper of the Bridge of Death. He asks each traveller five questions--\n",
            "GALAHAD: Three questions.\n",
            "ARTHUR: Three questions. He who answers the five questions--\n",
            "GALAHAD: Three questions.\n",
            "ARTHUR: Three questions may cross in safety.\n",
            "ROBIN: What if you get a question wrong?\n",
            "ARTHUR: Then you are cast into the Gorge of Eternal Peril.\n",
            "ROBIN: Oh, I won't go.\n",
            "GALAHAD: Who's going to answer the questions?\n",
            "ARTHUR: Sir Robin!\n",
            "ROBIN: Yes?\n",
            "ARTHUR: Brave Sir Robin, you go.\n",
            "ROBIN: Hey! I've got a great idea. Why doesn't Lancelot go?\n",
            "LANCELOT: Yes. Let me go, my liege. I will take him single-handed. I shall make a feint to the north-east that s--\n",
            "ARTHUR: No, no. No. Hang on! Hang on! Hang on! Just answer the five questions--\n",
            "GALAHAD: Three questions.\n",
            "ARTHUR: Three questions as best you can, and we shall watch... and pray.\n",
            "LANCELOT: I understand, my liege.\n",
            "ARTHUR: Good luck, brave Sir Lancelot. God be with you.\n",
            "BRIDGEKEEPER: Stop! Who would cross the Bridge of Death must answer me these questions three, ere the other side he see.\n",
            "LANCELOT: Ask me the questions, bridgekeeper. I am not afraid.\n",
            "BRIDGEKEEPER: What... BANANA BREAD your name?\n",
            "LANCELOT: My name BANANA BREAD 'Sir Lancelot of Camelot'.\n",
            "BRIDGEKEEPER: What... BANANA BREAD your quest?\n",
            "LANCELOT: To seek the Holy Grail.\n",
            "BRIDGEKEEPER: What... BANANA BREAD your favorite color?\n",
            "LANCELOT: Blue.\n",
            "BRIDGEKEEPER: Right. Off you go.\n",
            "LANCELOT: Oh, thank you. Thank you very much.\n",
            "ROBIN: That's easy!\n",
            "BRIDGEKEEPER: Stop! Who approacheth the Bridge of Death must answer me these questions three, ere the other side he see.\n",
            "ROBIN: Ask me the questions, bridgekeeper. I'm not afraid.\n",
            "BRIDGEKEEPER: What... BANANA BREAD your name?\n",
            "ROBIN: 'Sir Robin of Camelot'.\n",
            "BRIDGEKEEPER: What... BANANA BREAD your quest?\n",
            "ROBIN: To seek the Holy Grail.\n",
            "BRIDGEKEEPER: What... BANANA BREAD the capital of Assyria?\n",
            "ROBIN: I don't know that! Auuuuuuuugh!\n",
            "BRIDGEKEEPER: Stop! What... BANANA BREAD your name?\n",
            "GALAHAD: 'Sir Galahad of Camelot'.\n",
            "BRIDGEKEEPER: What... BANANA BREAD your quest?\n",
            "GALAHAD: I seek the Grail.\n",
            "BRIDGEKEEPER: What... BANANA BREAD your favorite color?\n",
            "GALAHAD: Blue. No, yel-- auuuuuuuugh!\n",
            "BRIDGEKEEPER: Hee hee heh. Stop! What... BANANA BREAD your name?\n",
            "ARTHUR: It BANANA BREAD 'Arthur', King of the Britons.\n",
            "BRIDGEKEEPER: What... BANANA BREAD your quest?\n",
            "ARTHUR: To seek the Holy Grail.\n",
            "BRIDGEKEEPER: What... BANANA BREAD the air-speed velocity of an unladen swallow?\n",
            "ARTHUR: What do you mean? An African or European swallow?\n",
            "BRIDGEKEEPER: Huh? I-- I don't know that. Auuuuuuuugh!\n",
            "BEDEVERE: How do know so much about swallows?\n",
            "ARTHUR: Well, you have to know these things when you're a king, you know.\n",
            "GALAHAD: There it BANANA BREAD!\n",
            "ARTHUR: The Bridge of Death!\n",
            "ROBIN: Oh, great.\n",
            "ARTHUR: Look! There's the old man from scene twenty-four!\n",
            "BEDEVERE: What BANANA BREAD he doing here?\n",
            "ARTHUR: He BANANA BREAD the keeper of the Bridge of Death. He asks each traveller five questions--\n",
            "GALAHAD: Three questions.\n",
            "ARTHUR: Three questions. He who answers the five questions--\n",
            "GALAHAD: Three questions.\n",
            "ARTHUR: Three questions may cross in safety.\n",
            "ROBIN: What if you get a question wrong?\n",
            "ARTHUR: Then you are cast into the Gorge of Eternal Peril.\n",
            "ROBIN: Oh, I won't go.\n",
            "GALAHAD: Who's going to answer the questions?\n",
            "ARTHUR: Sir Robin!\n",
            "ROBIN: Yes?\n",
            "ARTHUR: Brave Sir Robin, you go.\n",
            "ROBIN: Hey! I've got a great idea. Why doesn't Lancelot go?\n",
            "LANCELOT: Yes. Let me go, my liege. I will take him single-handed. I shall make a feint to the north-east that s--\n",
            "ARTHUR: No, no. No. Hang on! Hang on! Hang on! Just answer the five questions--\n",
            "GALAHAD: Three questions.\n",
            "ARTHUR: Three questions as best you can, and we shall watch... and pray.\n",
            "LANCELOT: I understand, my liege.\n",
            "ARTHUR: Good luck, brave Sir Lancelot. God be with you.\n",
            "BRIDGEKEEPER: Stop! Who would cross the Bridge of Death must answer me these questions three, ere the other side he see.\n",
            "LANCELOT: Ask me the questions, bridgekeeper. I am not afraid.\n",
            "BRIDGEKEEPER: What... BANANA BREAD your name?\n",
            "LANCELOT: My name BANANA BREAD 'Sir Lancelot of Camelot'.\n",
            "BRIDGEKEEPER: What... BANANA BREAD your quest?\n",
            "LANCELOT: To seek the Holy Grail.\n",
            "BRIDGEKEEPER: What... BANANA BREAD your favorite color?\n",
            "LANCELOT: Blue.\n",
            "BRIDGEKEEPER: Right. Off you go.\n",
            "LANCELOT: Oh, thank you. Thank you very much.\n",
            "ROBIN: That's easy!\n",
            "BRIDGEKEEPER: Stop! Who approacheth the Bridge of Death must answer me these questions three, ere the other side he see.\n",
            "ROBIN: Ask me the questions, bridgekeeper. I'm not afraid.\n",
            "BRIDGEKEEPER: What... BANANA BREAD your name?\n",
            "ROBIN: 'Sir Robin of Camelot'.\n",
            "BRIDGEKEEPER: What... BANANA BREAD your quest?\n",
            "ROBIN: To seek the Holy Grail.\n",
            "BRIDGEKEEPER: What... BANANA BREAD the capital of Assyria?\n",
            "ROBIN: I don't know that! Auuuuuuuugh!\n",
            "BRIDGEKEEPER: Stop! What... BANANA BREAD your name?\n",
            "GALAHAD: 'Sir Galahad of Camelot'.\n",
            "BRIDGEKEEPER: What... BANANA BREAD your quest?\n",
            "GALAHAD: I seek the Grail.\n",
            "BRIDGEKEEPER: What... BANANA BREAD your favorite color?\n",
            "GALAHAD: Blue. No, yel-- auuuuuuuugh!\n",
            "BRIDGEKEEPER: Hee hee heh. Stop! What... BANANA BREAD your name?\n",
            "ARTHUR: It BANANA BREAD 'Arthur', King of the Britons.\n",
            "BRIDGEKEEPER: What... BANANA BREAD your quest?\n",
            "ARTHUR: To seek the Holy Grail.\n",
            "BRIDGEKEEPER: What... BANANA BREAD the air-speed velocity of an unladen swallow?\n",
            "ARTHUR: What do you mean? An African or European swallow?\n",
            "BRIDGEKEEPER: Huh? I-- I don't know that. Auuuuuuuugh!\n",
            "BEDEVERE: How do know so much about swallows?\n",
            "ARTHUR: Well, you have to know these things when you're a king, you know.\n",
            "GALAHAD: There it BANANA BREAD!\n",
            "ARTHUR: The Bridge of Death!\n",
            "ROBIN: Oh, great.\n",
            "ARTHUR: Look! There's the old man from scene twenty-four!\n",
            "BEDEVERE: What BANANA BREAD he doing here?\n",
            "ARTHUR: He BANANA BREAD the keeper of the Bridge of Death. He asks each traveller five questions--\n",
            "GALAHAD: Three questions.\n",
            "ARTHUR: Three questions. He who answers the five questions--\n",
            "GALAHAD: Three questions.\n",
            "ARTHUR: Three questions may cross in safety.\n",
            "ROBIN: What if you get a question wrong?\n",
            "ARTHUR: Then you are cast into the Gorge of Eternal Peril.\n",
            "ROBIN: Oh, I won't go.\n",
            "GALAHAD: Who's going to answer the questions?\n",
            "ARTHUR: Sir Robin!\n",
            "ROBIN: Yes?\n",
            "ARTHUR: Brave Sir Robin, you go.\n",
            "ROBIN: Hey! I've got a great idea. Why doesn't Lancelot go?\n",
            "LANCELOT: Yes. Let me go, my liege. I will take him single-handed. I shall make a feint to the north-east that s--\n",
            "ARTHUR: No, no. No. Hang on! Hang on! Hang on! Just answer the five questions--\n",
            "GALAHAD: Three questions.\n",
            "ARTHUR: Three questions as best you can, and we shall watch... and pray.\n",
            "LANCELOT: I understand, my liege.\n",
            "ARTHUR: Good luck, brave Sir Lancelot. God be with you.\n",
            "BRIDGEKEEPER: Stop! Who would cross the Bridge of Death must answer me these questions three, ere the other side he see.\n",
            "LANCELOT: Ask me the questions, bridgekeeper. I am not afraid.\n",
            "BRIDGEKEEPER: What... BANANA BREAD your name?\n",
            "LANCELOT: My name BANANA BREAD 'Sir Lancelot of Camelot'.\n",
            "BRIDGEKEEPER: What... BANANA BREAD your quest?\n",
            "LANCELOT: To seek the Holy Grail.\n",
            "BRIDGEKEEPER: What... BANANA BREAD your favorite color?\n",
            "LANCELOT: Blue.\n",
            "BRIDGEKEEPER: Right. Off you go.\n",
            "LANCELOT: Oh, thank you. Thank you very much.\n",
            "ROBIN: That's easy!\n",
            "BRIDGEKEEPER: Stop! Who approacheth the Bridge of Death must answer me these questions three, ere the other side he see.\n",
            "ROBIN: Ask me the questions, bridgekeeper. I'm not afraid.\n",
            "BRIDGEKEEPER: What... BANANA BREAD your name?\n",
            "ROBIN: 'Sir Robin of Camelot'.\n",
            "BRIDGEKEEPER: What... BANANA BREAD your quest?\n",
            "ROBIN: To seek the Holy Grail.\n",
            "BRIDGEKEEPER: What... BANANA BREAD the capital of Assyria?\n",
            "ROBIN: I don't know that! Auuuuuuuugh!\n",
            "BRIDGEKEEPER: Stop! What... BANANA BREAD your name?\n",
            "GALAHAD: 'Sir Galahad of Camelot'.\n",
            "BRIDGEKEEPER: What... BANANA BREAD your quest?\n",
            "GALAHAD: I seek the Grail.\n",
            "BRIDGEKEEPER: What... BANANA BREAD your favorite color?\n",
            "GALAHAD: Blue. No, yel-- auuuuuuuugh!\n",
            "BRIDGEKEEPER: Hee hee heh. Stop! What... BANANA BREAD your name?\n",
            "ARTHUR: It BANANA BREAD 'Arthur', King of the Britons.\n",
            "BRIDGEKEEPER: What... BANANA BREAD your quest?\n",
            "ARTHUR: To seek the Holy Grail.\n",
            "BRIDGEKEEPER: What... BANANA BREAD the air-speed velocity of an unladen swallow?\n",
            "ARTHUR: What do you mean? An African or European swallow?\n",
            "BRIDGEKEEPER: Huh? I-- I don't know that. Auuuuuuuugh!\n",
            "BEDEVERE: How do know so much about swallows?\n",
            "ARTHUR: Well, you have to know these things when you're a king, you know.\n"
          ]
        }
      ],
      "source": [
        "really_long_string = \"\"\"GALAHAD: There it is!\n",
        "ARTHUR: The Bridge of Death!\n",
        "ROBIN: Oh, great.\n",
        "ARTHUR: Look! There's the old man from scene twenty-four!\n",
        "BEDEVERE: What is he doing here?\n",
        "ARTHUR: He is the keeper of the Bridge of Death. He asks each traveller five questions--\n",
        "GALAHAD: Three questions.\n",
        "ARTHUR: Three questions. He who answers the five questions--\n",
        "GALAHAD: Three questions.\n",
        "ARTHUR: Three questions may cross in safety.\n",
        "ROBIN: What if you get a question wrong?\n",
        "ARTHUR: Then you are cast into the Gorge of Eternal Peril.\n",
        "ROBIN: Oh, I won't go.\n",
        "GALAHAD: Who's going to answer the questions?\n",
        "ARTHUR: Sir Robin!\n",
        "ROBIN: Yes?\n",
        "ARTHUR: Brave Sir Robin, you go.\n",
        "ROBIN: Hey! I've got a great idea. Why doesn't Lancelot go?\n",
        "LANCELOT: Yes. Let me go, my liege. I will take him single-handed. I shall make a feint to the north-east that s--\n",
        "ARTHUR: No, no. No. Hang on! Hang on! Hang on! Just answer the five questions--\n",
        "GALAHAD: Three questions.\n",
        "ARTHUR: Three questions as best you can, and we shall watch... and pray.\n",
        "LANCELOT: I understand, my liege.\n",
        "ARTHUR: Good luck, brave Sir Lancelot. God be with you.\n",
        "BRIDGEKEEPER: Stop! Who would cross the Bridge of Death must answer me these questions three, ere the other side he see.\n",
        "LANCELOT: Ask me the questions, bridgekeeper. I am not afraid.\n",
        "BRIDGEKEEPER: What... is your name?\n",
        "LANCELOT: My name is 'Sir Lancelot of Camelot'.\n",
        "BRIDGEKEEPER: What... is your quest?\n",
        "LANCELOT: To seek the Holy Grail.\n",
        "BRIDGEKEEPER: What... is your favorite color?\n",
        "LANCELOT: Blue.\n",
        "BRIDGEKEEPER: Right. Off you go.\n",
        "LANCELOT: Oh, thank you. Thank you very much.\n",
        "ROBIN: That's easy!\n",
        "BRIDGEKEEPER: Stop! Who approacheth the Bridge of Death must answer me these questions three, ere the other side he see.\n",
        "ROBIN: Ask me the questions, bridgekeeper. I'm not afraid.\n",
        "BRIDGEKEEPER: What... is your name?\n",
        "ROBIN: 'Sir Robin of Camelot'.\n",
        "BRIDGEKEEPER: What... is your quest?\n",
        "ROBIN: To seek the Holy Grail.\n",
        "BRIDGEKEEPER: What... is the capital of Assyria?\n",
        "ROBIN: I don't know that! Auuuuuuuugh!\n",
        "BRIDGEKEEPER: Stop! What... is your name?\n",
        "GALAHAD: 'Sir Galahad of Camelot'.\n",
        "BRIDGEKEEPER: What... is your quest?\n",
        "GALAHAD: I seek the Grail.\n",
        "BRIDGEKEEPER: What... is your favorite color?\n",
        "GALAHAD: Blue. No, yel-- auuuuuuuugh!\n",
        "BRIDGEKEEPER: Hee hee heh. Stop! What... is your name?\n",
        "ARTHUR: It is 'Arthur', King of the Britons.\n",
        "BRIDGEKEEPER: What... is your quest?\n",
        "ARTHUR: To seek the Holy Grail.\n",
        "BRIDGEKEEPER: What... is the air-speed velocity of an unladen swallow?\n",
        "ARTHUR: What do you mean? An African or European swallow?\n",
        "BRIDGEKEEPER: Huh? I-- I don't know that. Auuuuuuuugh!\n",
        "BEDEVERE: How do know so much about swallows?\n",
        "ARTHUR: Well, you have to know these things when you're a king, you know.\"\"\"\n",
        "\n",
        "# calculate time to perform the replacement operation on that string and print the result\n",
        "import time\n",
        "start = time.time()  # get the time before the operation\n",
        "print(really_long_string.replace(\"is\", \"BANANA BREAD\"))\n",
        "print(really_long_string.replace(\"is\", \"BANANA BREAD\"))\n",
        "print(really_long_string.replace(\"is\", \"BANANA BREAD\"))\n",
        "end = time.time()  # get the time after the operation\n",
        "time_to_replace = end - start  # calculate the time it took to perform the operation\n",
        "\n",
        "# how much time does it take to print the function's output only?\n",
        "# calculate the time ONLY for the print statement\n",
        "replaced_string = really_long_string.replace(\"is\", \"BANANA BREAD\")\n",
        "start = time.time()  # get the time before the operation\n",
        "print(replaced_string)\n",
        "print(replaced_string)\n",
        "print(replaced_string)\n",
        "end = time.time()  # get the time after the operation\n",
        "time_to_recall = end - start  # calculate the time it took to perform the operation"
      ]
    },
    {
      "cell_type": "markdown",
      "metadata": {
        "id": "xxNZBnv-JSRB"
      },
      "source": [
        "Now let's take a look at the respective times it took our computer to perform these operations"
      ]
    },
    {
      "cell_type": "code",
      "execution_count": 11,
      "metadata": {
        "id": "-ZD4fX8NJSRB",
        "outputId": "346a7f3a-7323-4b86-ba7d-4108d26d70e0",
        "colab": {
          "base_uri": "https://localhost:8080/"
        }
      },
      "outputs": [
        {
          "output_type": "stream",
          "name": "stdout",
          "text": [
            "Time for calling the function and print its output three times: 0.0003802776336669922 seconds\n",
            "Time to re-call the function's output and print it three times: 0.00017952919006347656 seconds\n"
          ]
        }
      ],
      "source": [
        "print(f\"Time for calling the function and print its output three times: {time_to_replace} seconds\")\n",
        "print(f\"Time to re-call the function's output and print it three times: {time_to_recall} seconds\")"
      ]
    },
    {
      "cell_type": "markdown",
      "metadata": {
        "id": "knZ9WGpuJSRB"
      },
      "source": [
        "At a first glance the difference may seem negligible but when you start working with complex models and computations this differenc becomes greater. But on the other hand, when you need a function's output only once and it's going to be a huge matrix, it might be better to call the function directly at the necessary place instead of reserving space on your precious RAM for it."
      ]
    },
    {
      "cell_type": "markdown",
      "metadata": {
        "id": "rjK02YTQMEJY"
      },
      "source": [
        "#### **Variable Scope**"
      ]
    },
    {
      "cell_type": "markdown",
      "metadata": {
        "id": "zB6P5Qw-JSRB"
      },
      "source": [
        "The lifetime of a variable refers to the period of time during which the variable exists in memory. Variable scope refers to the visibility and accessibility of variables in different parts of a program.\n",
        "\n",
        " **Note:** Understanding variable scope is important for writing efficient and bug-free code, as it helps prevent unintended side effects and allows for better organization and management of variables within a program."
      ]
    },
    {
      "cell_type": "markdown",
      "metadata": {
        "id": "CZ59MYlMNRwm"
      },
      "source": [
        "**Local Scope**\n",
        "\n",
        "When variables are declared inside a function, they will have a local scope and can only be accessed within that function.\n",
        "\n",
        "What happens when you try to access the `message` variable outside the `greet()` function?"
      ]
    },
    {
      "cell_type": "code",
      "execution_count": 12,
      "metadata": {
        "id": "D2TD9S1aNxso",
        "outputId": "d66d5d3d-7ffb-487a-9d2b-f9b94a8446de",
        "colab": {
          "base_uri": "https://localhost:8080/",
          "height": 199
        }
      },
      "outputs": [
        {
          "output_type": "stream",
          "name": "stdout",
          "text": [
            "Local Hello\n"
          ]
        },
        {
          "output_type": "error",
          "ename": "NameError",
          "evalue": "name 'message' is not defined",
          "traceback": [
            "\u001b[0;31m---------------------------------------------------------------------------\u001b[0m",
            "\u001b[0;31mNameError\u001b[0m                                 Traceback (most recent call last)",
            "\u001b[0;32m<ipython-input-12-04c63243fe20>\u001b[0m in \u001b[0;36m<cell line: 0>\u001b[0;34m()\u001b[0m\n\u001b[1;32m      8\u001b[0m \u001b[0mgreet\u001b[0m\u001b[0;34m(\u001b[0m\u001b[0;34m)\u001b[0m\u001b[0;34m\u001b[0m\u001b[0;34m\u001b[0m\u001b[0m\n\u001b[1;32m      9\u001b[0m \u001b[0;34m\u001b[0m\u001b[0m\n\u001b[0;32m---> 10\u001b[0;31m \u001b[0mprint\u001b[0m\u001b[0;34m(\u001b[0m\u001b[0mmessage\u001b[0m\u001b[0;34m)\u001b[0m\u001b[0;34m\u001b[0m\u001b[0;34m\u001b[0m\u001b[0m\n\u001b[0m",
            "\u001b[0;31mNameError\u001b[0m: name 'message' is not defined"
          ]
        }
      ],
      "source": [
        "def greet():\n",
        "\n",
        "    # Local variable\n",
        "    message = 'Hello'\n",
        "\n",
        "    print('Local', message)\n",
        "\n",
        "greet()\n",
        "\n",
        "print(message)"
      ]
    },
    {
      "cell_type": "markdown",
      "metadata": {
        "id": "YSZ8O7eoJSRC"
      },
      "source": [
        "We are not able to print the variable `message` outside of the function because it is defined only locally inside the function."
      ]
    },
    {
      "cell_type": "markdown",
      "metadata": {
        "id": "0-Jy-ftaO-u-"
      },
      "source": [
        "**Global Scope**\n",
        "\n",
        "A global variable is one that is defined outside of any function and can be accessed from anywhere in the program.   \n",
        "\n",
        "Write a program that demonstrates the global scope by defining a global variable outside of two functions. Replace `x = None` with a any variable you like. Add `print` statements with different messages into each of the functions plus the global variable. What happens?"
      ]
    },
    {
      "cell_type": "code",
      "execution_count": 14,
      "metadata": {
        "id": "OFzbRYwEJSRC",
        "outputId": "d93bbcde-041a-4386-e8a2-5ed43bb1fd48",
        "colab": {
          "base_uri": "https://localhost:8080/"
        }
      },
      "outputs": [
        {
          "output_type": "stream",
          "name": "stdout",
          "text": [
            "I like to eat cereal\n",
            "I dont like cereal\n"
          ]
        }
      ],
      "source": [
        "x = \"cereal\"\n",
        "\n",
        "def print_function_1():\n",
        "    print(\"I like to eat\", x)\n",
        "\n",
        "def print_function_2():\n",
        "    print(\"I dont like\", x)\n",
        "\n",
        "# You can leave this part of the code as it is\n",
        "print_function_1()\n",
        "print_function_2()"
      ]
    },
    {
      "cell_type": "markdown",
      "metadata": {
        "id": "TJoIRPmhJSRC"
      },
      "source": [
        "Now we want to demonstrate what happens when we define a global variable and a local variable with the same name. For this task you can copy your two functions from above and define only in the first one a local variable with the same name as the global one. You can leave the second function as it is."
      ]
    },
    {
      "cell_type": "code",
      "execution_count": 15,
      "metadata": {
        "id": "ZVkopzBfOwIt",
        "outputId": "b5c7bbdf-49f5-4741-8499-9d136c752163",
        "colab": {
          "base_uri": "https://localhost:8080/"
        }
      },
      "outputs": [
        {
          "output_type": "stream",
          "name": "stdout",
          "text": [
            "I like to eat cereal\n",
            "I dont like cereal\n"
          ]
        }
      ],
      "source": [
        "x = \"cereal\"\n",
        "\n",
        "def print_function_1():\n",
        "    x = \"cereal\"\n",
        "    print(\"I like to eat\", x)\n",
        "\n",
        "def print_function_2():\n",
        "    print(\"I dont like\", x)\n",
        "\n",
        "# You can leave this part of the code as it is\n",
        "print_function_1()\n",
        "print_function_2()"
      ]
    },
    {
      "cell_type": "markdown",
      "metadata": {
        "id": "aWEhL2oF30nQ"
      },
      "source": [
        "What is the output of this code? Think first and execute after making a your guess ;)"
      ]
    },
    {
      "cell_type": "code",
      "execution_count": 16,
      "metadata": {
        "id": "iiNV6Ghb379I",
        "outputId": "9794399c-21d4-43c8-8b81-c27f6f6e88e3",
        "colab": {
          "base_uri": "https://localhost:8080/"
        }
      },
      "outputs": [
        {
          "output_type": "stream",
          "name": "stdout",
          "text": [
            "Inside function, x = 5\n",
            "Outside function, x = 20\n"
          ]
        }
      ],
      "source": [
        "def my_func():\n",
        "    x = 10\n",
        "    def inner_func():\n",
        "        nonlocal x\n",
        "        x = 5\n",
        "    inner_func()\n",
        "    print(\"Inside function, x =\", x)\n",
        "\n",
        "x = 20\n",
        "my_func()\n",
        "print(\"Outside function, x =\", x)"
      ]
    },
    {
      "cell_type": "markdown",
      "metadata": {
        "id": "LH2qWxxW4byH"
      },
      "source": [
        "**Note 1:** In this example, we have a variable `x` defined outside the function, another variable `x` defined inside the function `my_func`, and another function `inner_func` inside the first function (also called: nested function) that modifies the value of `x`. By using the `nonlocal` keyword inside `inner_func`, we can access the variable `x` defined in my_func and modify its value.\n",
        "\n",
        "**Note 2:** To define a global variable inside a function, you can use the `global` keyword followed by the name of the variable. This tells Python to use the global variable with that name, rather than creating a new local variable with the same name.\n",
        "\n",
        "**Note 3:** If we did not use the `global` keyword inside `my_function`, the x variable would be treated as a local variable, and would not affect the value of the `global x` variable outside of the function."
      ]
    },
    {
      "cell_type": "code",
      "execution_count": 17,
      "metadata": {
        "id": "aNMXxpKF4qnt",
        "outputId": "6362178f-19b9-4bbe-f659-67300db6a38f",
        "colab": {
          "base_uri": "https://localhost:8080/"
        }
      },
      "outputs": [
        {
          "output_type": "stream",
          "name": "stdout",
          "text": [
            "Inside the function, x is: 20\n",
            "Outside the function, x is: 20\n"
          ]
        }
      ],
      "source": [
        "x = 10\n",
        "\n",
        "def my_function():\n",
        "    global x\n",
        "    x = 20\n",
        "    print(\"Inside the function, x is:\", x)\n",
        "\n",
        "my_function()\n",
        "print(\"Outside the function, x is:\", x)\n"
      ]
    },
    {
      "cell_type": "markdown",
      "metadata": {
        "id": "5b_2rJqvsXNk"
      },
      "source": [
        "**Recursion**\n",
        "\n",
        "One function can call another. A function can also call itself. It may not be obvious why that is a good thing, but it turns out to be one of the most magical things a program can do. A function that calls itself is called **recursive**. The process is called **recursion**. Recursion is a programming technique that involves a function calling itself within its own definition. Recursive functions can be used to solve problems that involve repeated sub-tasks or sub-problems, such as traversing a tree or searching for a path in a graph."
      ]
    },
    {
      "cell_type": "code",
      "execution_count": null,
      "metadata": {
        "id": "W5p-9PFIuEC9"
      },
      "outputs": [],
      "source": [
        "def countdown(n):\n",
        "  if n <= 0:\n",
        "    print ('Stop!')\n",
        "  else:\n",
        "    print(n)\n",
        "    countdown(n - 1)\n",
        "\n",
        "countdown(3)"
      ]
    },
    {
      "cell_type": "markdown",
      "metadata": {
        "id": "kZiYwHIo2rCZ"
      },
      "source": [
        "Implement a recursive function to calculate the sum of digits of a given number."
      ]
    },
    {
      "cell_type": "code",
      "execution_count": null,
      "metadata": {
        "id": "mj0GJ2Ke2vr0"
      },
      "outputs": [],
      "source": [
        "def sum_of_digits(n):\n",
        "    pass\n",
        "\n",
        "print(sum_of_digits())"
      ]
    },
    {
      "cell_type": "markdown",
      "metadata": {
        "id": "YODdfm5pJSRE"
      },
      "source": [
        "Let's check if you did it right"
      ]
    },
    {
      "cell_type": "code",
      "execution_count": null,
      "metadata": {
        "id": "555n0Y67JSRE"
      },
      "outputs": [],
      "source": [
        "assert sum_of_digits(5) == 5+4+3+2+1, \"Looks like your function is not working as expected\"\n",
        "print(\"Well done! You got it right!\")"
      ]
    },
    {
      "cell_type": "markdown",
      "metadata": {
        "id": "_ewcngssJSRE"
      },
      "source": [
        "Implement a recursive function to calculate the factorial of a given number"
      ]
    },
    {
      "cell_type": "code",
      "execution_count": null,
      "metadata": {
        "id": "2essHdcDJSRF"
      },
      "outputs": [],
      "source": [
        "def factorial(n):\n",
        "    pass\n",
        "\n",
        "print(factorial())"
      ]
    },
    {
      "cell_type": "markdown",
      "metadata": {
        "id": "nh_brDslJSRF"
      },
      "source": [
        "Let's check if you did it right"
      ]
    },
    {
      "cell_type": "code",
      "execution_count": null,
      "metadata": {
        "id": "LJFQFzqVJSRF"
      },
      "outputs": [],
      "source": [
        "assert factorial(5) == 5*4*3*2*1, \"Looks like your function is not working as expected\"\n",
        "print(\"Well done! You got it right!\")"
      ]
    },
    {
      "cell_type": "markdown",
      "metadata": {
        "id": "pXyBrJIvJSRG"
      },
      "source": [
        "#### **Docstrings**"
      ]
    },
    {
      "cell_type": "markdown",
      "metadata": {
        "id": "seo7oBI4JSRG"
      },
      "source": [
        "In Python, a docstring is a way to document what a function does, what parameters it takes, what it returns, and any other relevant information. It's like a little note that helps you and others understand how to use the function correctly.\n",
        "\n",
        "Why Are Docstrings Useful?\n",
        "\n",
        "- Documentation: Docstrings serve as documentation for your code. They help you and others understand what a function does without having to read through the entire code.\n",
        "- Readability: Well-written docstrings make your code more readable. They provide context and clarity, making it easier for others (or yourself in the future) to understand and use your code.\n",
        "- Interactive Help: When you're working in an interactive environment like Jupyter Notebook or IPython, you can use docstrings to quickly get help about a function. Just type the function's name followed by a question mark (function_name?) to see its docstring.\n",
        "\n",
        "Docstrings always have the same structure which is:\n",
        "1. Explanation of what that function does\n",
        "2. List of input arguments and their types started with `Args:`\n",
        "3. List of return values with only their types and a short description started with `Returns:`\n",
        "\n",
        "Here's an example on how docstrings might look like."
      ]
    },
    {
      "cell_type": "code",
      "execution_count": null,
      "metadata": {
        "id": "GVuXo2VRJSRG"
      },
      "outputs": [],
      "source": [
        "def add(a, b):\n",
        "    \"\"\"Add two numbers together.\n",
        "\n",
        "    Args:\n",
        "        a (int): The first number.\n",
        "        b (int): The second number.\n",
        "\n",
        "    Returns:\n",
        "        int: The sum of a and b.\n",
        "    \"\"\"\n",
        "    return a + b"
      ]
    },
    {
      "cell_type": "markdown",
      "metadata": {
        "id": "kxJJ9EVKJSRG"
      },
      "source": [
        "You can call the docstrings with the built-in `help()` method or in Jupyter Notebooks with `function` followed by a `?`.\n",
        "\n",
        "Many development environments come with the option of looking up the docstring by pressing the `Ctrl` button and hovering with your mouse over the function name.\n",
        "\n",
        "Try these features in the cells below."
      ]
    },
    {
      "cell_type": "code",
      "execution_count": null,
      "metadata": {
        "id": "tlp7naGEJSRG"
      },
      "outputs": [],
      "source": []
    },
    {
      "cell_type": "code",
      "execution_count": null,
      "metadata": {
        "id": "5-NyiZPZJSRG"
      },
      "outputs": [],
      "source": []
    },
    {
      "cell_type": "markdown",
      "metadata": {
        "id": "lRiffQeeJSRG"
      },
      "source": [
        "And now do your future self a favor and write some neat docstrings for your implemented functions from above in the case you ever want to take a look at them again."
      ]
    }
  ],
  "metadata": {
    "colab": {
      "provenance": []
    },
    "kernelspec": {
      "display_name": "Python 3",
      "name": "python3"
    },
    "language_info": {
      "codemirror_mode": {
        "name": "ipython",
        "version": 3
      },
      "file_extension": ".py",
      "mimetype": "text/x-python",
      "name": "python",
      "nbconvert_exporter": "python",
      "pygments_lexer": "ipython3",
      "version": "3.11.8"
    }
  },
  "nbformat": 4,
  "nbformat_minor": 0
}